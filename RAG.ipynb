{
  "nbformat": 4,
  "nbformat_minor": 0,
  "metadata": {
    "colab": {
      "provenance": []
    },
    "kernelspec": {
      "name": "python3",
      "display_name": "Python 3"
    },
    "language_info": {
      "name": "python"
    }
  },
  "cells": [
    {
      "cell_type": "markdown",
      "source": [
        "# Retreival Augmented Generation (RAG)\n",
        "## Golden Retriever FAQ Retrieval System\n",
        "\n",
        "This repository contains a Python-based FAQ retrieval system designed to answer common questions about Golden Retrievers. It utilizes fuzzy matching and semantic search techniques to handle various ways a question may be phrased, offering relevant answers from a predefined FAQ database.\n",
        "\n",
        "## Table of Contents\n",
        "* **Section 1:** [Install required packages](#section-1)\n",
        "* **Section 2:**  [Create the Facts/ knowledge base to be augmented](#section-2)\n",
        "* **Section 3:**  [Approach 1 - RapidFuzz](#section-3)\n",
        "* **Section 4:**  [Approach 2 - Semantic Search using cosine_similarity](#section-4)\n",
        "* **Section 5:**  [Approach 3 - A chatbot](#section-5)"
      ],
      "metadata": {
        "id": "372-u2aRcWh_"
      }
    },
    {
      "cell_type": "markdown",
      "source": [
        "## Section 1. Install required packages <a name=\"section-1\"></a>"
      ],
      "metadata": {
        "id": "uPF4Rb3ssPc0"
      }
    },
    {
      "cell_type": "code",
      "source": [
        "!pip install rapidfuzz"
      ],
      "metadata": {
        "colab": {
          "base_uri": "https://localhost:8080/"
        },
        "id": "-Vyw6ugLqIco",
        "outputId": "a50f4531-d158-4059-ee5e-9c3e62a03dda"
      },
      "execution_count": 9,
      "outputs": [
        {
          "output_type": "stream",
          "name": "stdout",
          "text": [
            "Requirement already satisfied: rapidfuzz in /usr/local/lib/python3.10/dist-packages (3.9.7)\n"
          ]
        }
      ]
    },
    {
      "cell_type": "code",
      "execution_count": 1,
      "metadata": {
        "colab": {
          "base_uri": "https://localhost:8080/"
        },
        "id": "31Xt4buo_NAr",
        "outputId": "5b4a392b-c98e-4aec-eb1c-a69632e156ff"
      },
      "outputs": [
        {
          "output_type": "stream",
          "name": "stdout",
          "text": [
            "Requirement already satisfied: transformers in /usr/local/lib/python3.10/dist-packages (4.44.2)\n",
            "Requirement already satisfied: sentence-transformers in /usr/local/lib/python3.10/dist-packages (3.0.1)\n",
            "Requirement already satisfied: faiss-cpu in /usr/local/lib/python3.10/dist-packages (1.8.0.post1)\n",
            "Requirement already satisfied: datasets in /usr/local/lib/python3.10/dist-packages (2.21.0)\n",
            "Requirement already satisfied: numpy in /usr/local/lib/python3.10/dist-packages (1.26.4)\n",
            "Requirement already satisfied: pandas in /usr/local/lib/python3.10/dist-packages (2.1.4)\n",
            "Requirement already satisfied: torch in /usr/local/lib/python3.10/dist-packages (2.4.0+cu121)\n",
            "Requirement already satisfied: scikit-learn in /usr/local/lib/python3.10/dist-packages (1.3.2)\n",
            "Requirement already satisfied: filelock in /usr/local/lib/python3.10/dist-packages (from transformers) (3.15.4)\n",
            "Requirement already satisfied: huggingface-hub<1.0,>=0.23.2 in /usr/local/lib/python3.10/dist-packages (from transformers) (0.24.6)\n",
            "Requirement already satisfied: packaging>=20.0 in /usr/local/lib/python3.10/dist-packages (from transformers) (24.1)\n",
            "Requirement already satisfied: pyyaml>=5.1 in /usr/local/lib/python3.10/dist-packages (from transformers) (6.0.2)\n",
            "Requirement already satisfied: regex!=2019.12.17 in /usr/local/lib/python3.10/dist-packages (from transformers) (2024.5.15)\n",
            "Requirement already satisfied: requests in /usr/local/lib/python3.10/dist-packages (from transformers) (2.32.3)\n",
            "Requirement already satisfied: safetensors>=0.4.1 in /usr/local/lib/python3.10/dist-packages (from transformers) (0.4.4)\n",
            "Requirement already satisfied: tokenizers<0.20,>=0.19 in /usr/local/lib/python3.10/dist-packages (from transformers) (0.19.1)\n",
            "Requirement already satisfied: tqdm>=4.27 in /usr/local/lib/python3.10/dist-packages (from transformers) (4.66.5)\n",
            "Requirement already satisfied: scipy in /usr/local/lib/python3.10/dist-packages (from sentence-transformers) (1.13.1)\n",
            "Requirement already satisfied: Pillow in /usr/local/lib/python3.10/dist-packages (from sentence-transformers) (9.4.0)\n",
            "Requirement already satisfied: pyarrow>=15.0.0 in /usr/local/lib/python3.10/dist-packages (from datasets) (17.0.0)\n",
            "Requirement already satisfied: dill<0.3.9,>=0.3.0 in /usr/local/lib/python3.10/dist-packages (from datasets) (0.3.8)\n",
            "Requirement already satisfied: xxhash in /usr/local/lib/python3.10/dist-packages (from datasets) (3.5.0)\n",
            "Requirement already satisfied: multiprocess in /usr/local/lib/python3.10/dist-packages (from datasets) (0.70.16)\n",
            "Requirement already satisfied: fsspec<=2024.6.1,>=2023.1.0 in /usr/local/lib/python3.10/dist-packages (from fsspec[http]<=2024.6.1,>=2023.1.0->datasets) (2024.6.1)\n",
            "Requirement already satisfied: aiohttp in /usr/local/lib/python3.10/dist-packages (from datasets) (3.10.5)\n",
            "Requirement already satisfied: python-dateutil>=2.8.2 in /usr/local/lib/python3.10/dist-packages (from pandas) (2.8.2)\n",
            "Requirement already satisfied: pytz>=2020.1 in /usr/local/lib/python3.10/dist-packages (from pandas) (2024.1)\n",
            "Requirement already satisfied: tzdata>=2022.1 in /usr/local/lib/python3.10/dist-packages (from pandas) (2024.1)\n",
            "Requirement already satisfied: typing-extensions>=4.8.0 in /usr/local/lib/python3.10/dist-packages (from torch) (4.12.2)\n",
            "Requirement already satisfied: sympy in /usr/local/lib/python3.10/dist-packages (from torch) (1.13.2)\n",
            "Requirement already satisfied: networkx in /usr/local/lib/python3.10/dist-packages (from torch) (3.3)\n",
            "Requirement already satisfied: jinja2 in /usr/local/lib/python3.10/dist-packages (from torch) (3.1.4)\n",
            "Requirement already satisfied: joblib>=1.1.1 in /usr/local/lib/python3.10/dist-packages (from scikit-learn) (1.4.2)\n",
            "Requirement already satisfied: threadpoolctl>=2.0.0 in /usr/local/lib/python3.10/dist-packages (from scikit-learn) (3.5.0)\n",
            "Requirement already satisfied: aiohappyeyeballs>=2.3.0 in /usr/local/lib/python3.10/dist-packages (from aiohttp->datasets) (2.4.0)\n",
            "Requirement already satisfied: aiosignal>=1.1.2 in /usr/local/lib/python3.10/dist-packages (from aiohttp->datasets) (1.3.1)\n",
            "Requirement already satisfied: attrs>=17.3.0 in /usr/local/lib/python3.10/dist-packages (from aiohttp->datasets) (24.2.0)\n",
            "Requirement already satisfied: frozenlist>=1.1.1 in /usr/local/lib/python3.10/dist-packages (from aiohttp->datasets) (1.4.1)\n",
            "Requirement already satisfied: multidict<7.0,>=4.5 in /usr/local/lib/python3.10/dist-packages (from aiohttp->datasets) (6.0.5)\n",
            "Requirement already satisfied: yarl<2.0,>=1.0 in /usr/local/lib/python3.10/dist-packages (from aiohttp->datasets) (1.9.4)\n",
            "Requirement already satisfied: async-timeout<5.0,>=4.0 in /usr/local/lib/python3.10/dist-packages (from aiohttp->datasets) (4.0.3)\n",
            "Requirement already satisfied: six>=1.5 in /usr/local/lib/python3.10/dist-packages (from python-dateutil>=2.8.2->pandas) (1.16.0)\n",
            "Requirement already satisfied: charset-normalizer<4,>=2 in /usr/local/lib/python3.10/dist-packages (from requests->transformers) (3.3.2)\n",
            "Requirement already satisfied: idna<4,>=2.5 in /usr/local/lib/python3.10/dist-packages (from requests->transformers) (3.8)\n",
            "Requirement already satisfied: urllib3<3,>=1.21.1 in /usr/local/lib/python3.10/dist-packages (from requests->transformers) (2.0.7)\n",
            "Requirement already satisfied: certifi>=2017.4.17 in /usr/local/lib/python3.10/dist-packages (from requests->transformers) (2024.8.30)\n",
            "Requirement already satisfied: MarkupSafe>=2.0 in /usr/local/lib/python3.10/dist-packages (from jinja2->torch) (2.1.5)\n",
            "Requirement already satisfied: mpmath<1.4,>=1.1.0 in /usr/local/lib/python3.10/dist-packages (from sympy->torch) (1.3.0)\n"
          ]
        }
      ],
      "source": [
        "!pip install transformers sentence-transformers faiss-cpu datasets numpy pandas torch scikit-learn"
      ]
    },
    {
      "cell_type": "markdown",
      "source": [
        "## Section 2. Predefined FAQs <a name=\"section-2\"></a>"
      ],
      "metadata": {
        "id": "oaiTJQGM55Fl"
      }
    },
    {
      "cell_type": "code",
      "source": [
        "faq = {\n",
        "    # Lifespan and Growth\n",
        "    \"What is the average lifespan of a Golden Retriever?\": \"The average lifespan of a Golden Retriever is around 10 to 12 years.\",\n",
        "    \"How long do Golden Retrievers live?\": \"Golden Retrievers typically live for 10 to 12 years, depending on their health and care.\",\n",
        "    \"When do Golden Retrievers stop growing?\": \"Golden Retrievers usually stop growing around 18 to 24 months of age.\",\n",
        "    \"How big do Golden Retrievers get?\": \"Male Golden Retrievers usually weigh between 65 to 75 pounds, while females weigh between 55 to 65 pounds.\",\n",
        "\n",
        "    # Exercise and Activity\n",
        "    \"How much exercise do Golden Retrievers need?\": \"Golden Retrievers need at least one hour of exercise per day. This can include walking, running, or playing fetch.\",\n",
        "    \"What activities do Golden Retrievers enjoy?\": \"Golden Retrievers enjoy swimming, fetching, hiking, running, and playing games like tug-of-war.\",\n",
        "    \"Are Golden Retrievers good for hiking?\": \"Yes, Golden Retrievers are excellent hiking companions due to their endurance and love for outdoor activities.\",\n",
        "\n",
        "    # Diet and Feeding\n",
        "    \"What should I feed my Golden Retriever?\": \"Golden Retrievers should be fed a balanced diet with high-quality dry dog food. The amount depends on the dog's age, size, and activity level.\",\n",
        "    \"How much food does a Golden Retriever need?\": \"An adult Golden Retriever typically needs between 2 to 3 cups of high-quality dog food daily, divided into two meals.\",\n",
        "    \"Can Golden Retrievers eat human food?\": \"Some human foods, like chicken, carrots, and apples, are safe for Golden Retrievers, but avoid toxic foods like chocolate, grapes, and onions.\",\n",
        "\n",
        "    # Grooming and Care\n",
        "    \"How often should I groom my Golden Retriever?\": \"Golden Retrievers should be brushed 3 to 5 times a week to prevent matting and reduce shedding. Regular grooming is essential to maintain their coat health.\",\n",
        "    \"Do Golden Retrievers shed a lot?\": \"Yes, Golden Retrievers shed heavily, especially during spring and fall. Regular brushing can help control the shedding.\",\n",
        "    \"How often should I bathe my Golden Retriever?\": \"Golden Retrievers should be bathed every 6 to 8 weeks, or more often if they get dirty or start to smell.\",\n",
        "    \"Do Golden Retrievers need haircuts?\": \"Golden Retrievers don't need regular haircuts, but trimming around their ears, paws, and tail can keep them looking neat.\",\n",
        "\n",
        "    # Training and Behavior\n",
        "    \"Are Golden Retrievers easy to train?\": \"Yes, Golden Retrievers are intelligent and eager to please, making them relatively easy to train with positive reinforcement.\",\n",
        "    \"How can I train my Golden Retriever?\": \"Use positive reinforcement, such as treats and praise, to train your Golden Retriever. They respond well to consistency and patience.\",\n",
        "    \"Do Golden Retrievers bark a lot?\": \"Golden Retrievers are not known to be excessive barkers, but they will bark to alert their owners of strangers or unfamiliar noises.\",\n",
        "    \"Are Golden Retrievers good with kids?\": \"Yes, Golden Retrievers are known for their friendly and gentle nature, making them great companions for children.\",\n",
        "    \"Do Golden Retrievers get along with other pets?\": \"Golden Retrievers generally get along well with other pets due to their friendly and social temperament.\",\n",
        "\n",
        "    # Health and Common Issues\n",
        "    \"What are common health issues in Golden Retrievers?\": \"Common health issues in Golden Retrievers include hip dysplasia, elbow dysplasia, cataracts, and heart problems.\",\n",
        "    \"How can I prevent hip dysplasia in my Golden Retriever?\": \"To reduce the risk of hip dysplasia, ensure your Golden Retriever maintains a healthy weight, exercises regularly, and avoids excessive jumping during puppyhood.\",\n",
        "    \"Are Golden Retrievers prone to cancer?\": \"Unfortunately, Golden Retrievers have a higher risk of cancer than many other breeds. Regular vet check-ups and a healthy lifestyle can help catch issues early.\",\n",
        "    \"How often should I take my Golden Retriever to the vet?\": \"Golden Retrievers should visit the vet for an annual check-up. Puppies and seniors may need more frequent visits to monitor their health.\",\n",
        "\n",
        "    # Puppy Care\n",
        "    \"How do I care for a Golden Retriever puppy?\": \"Golden Retriever puppies need a balanced diet, plenty of exercise, and socialization. Puppy training is crucial to ensure good behavior as they grow.\",\n",
        "    \"When should I start training my Golden Retriever puppy?\": \"Training should start as early as 8 weeks old, focusing on basic commands and housebreaking. Early socialization is important too.\",\n",
        "    \"How much sleep does a Golden Retriever puppy need?\": \"Golden Retriever puppies need around 18 to 20 hours of sleep a day to support their rapid growth and development.\",\n",
        "\n",
        "    # General Traits and Characteristics\n",
        "    \"What is the temperament of a Golden Retriever?\": \"Golden Retrievers are known for their friendly, gentle, and loyal temperament. They are great family pets and are good with children and other animals.\",\n",
        "    \"Are Golden Retrievers good family pets?\": \"Yes, Golden Retrievers are excellent family pets due to their friendly, gentle, and loyal nature.\",\n",
        "    \"Why are Golden Retrievers so friendly?\": \"Golden Retrievers were bred to be companion dogs and hunting partners, which required a friendly and cooperative temperament.\",\n",
        "    \"How intelligent are Golden Retrievers?\": \"Golden Retrievers are highly intelligent and rank among the top 10 most intelligent dog breeds. They are quick learners and eager to please.\",\n",
        "    \"Do Golden Retrievers have a strong sense of smell?\": \"Yes, Golden Retrievers have an excellent sense of smell, which is why they are often used as search-and-rescue and detection dogs.\",\n",
        "\n",
        "    # Special Uses and Roles\n",
        "    \"Can Golden Retrievers be service dogs?\": \"Yes, Golden Retrievers are commonly used as service dogs due to their intelligence, calm demeanor, and eagerness to help.\",\n",
        "    \"Are Golden Retrievers good therapy dogs?\": \"Golden Retrievers make excellent therapy dogs because of their calm, gentle, and friendly nature, which makes them great for emotional support.\",\n",
        "    \"Do Golden Retrievers make good hunting dogs?\": \"Yes, Golden Retrievers were originally bred as hunting dogs, specifically for retrieving waterfowl. They have a strong retrieving instinct and love water.\",\n",
        "\n",
        "    # Miscellaneous\n",
        "    \"Are Golden Retrievers good apartment dogs?\": \"Golden Retrievers can adapt to apartment living if they get enough exercise, but they generally do better in homes with yards.\",\n",
        "    \"Do Golden Retrievers like water?\": \"Golden Retrievers love water and are excellent swimmers. They were originally bred to retrieve waterfowl, so swimming comes naturally to them.\",\n",
        "    \"Are Golden Retrievers hypoallergenic?\": \"No, Golden Retrievers are not hypoallergenic. They shed a lot, which can trigger allergies in sensitive individuals.\"\n",
        "}\n"
      ],
      "metadata": {
        "id": "ZsrloT8uKqkZ"
      },
      "execution_count": 2,
      "outputs": []
    },
    {
      "cell_type": "markdown",
      "source": [
        "## Section 3. Approach 1: RapidFuzz <a name=\"section-3\"></a>"
      ],
      "metadata": {
        "id": "1ZU3dKLu5A_6"
      }
    },
    {
      "cell_type": "code",
      "source": [
        "# Import required libraries\n",
        "from rapidfuzz import fuzz, process"
      ],
      "metadata": {
        "id": "WpWRQdRX6NHg"
      },
      "execution_count": 3,
      "outputs": []
    },
    {
      "cell_type": "code",
      "source": [
        "# Fuzzy matching function to retrieve the closest FAQ\n",
        "def retrieve_with_fuzzy_faq(query, faq, threshold=70):\n",
        "    result = process.extractOne(query, faq.keys(), scorer=fuzz.token_sort_ratio)\n",
        "    if result:\n",
        "        matched_question, score, *_ = result  # Unpack only the first two elements\n",
        "        if score >= threshold:\n",
        "            return faq[matched_question]\n",
        "    return \"I'm sorry, I don't have an answer for that.\""
      ],
      "metadata": {
        "id": "JDMt4xma4LpU"
      },
      "execution_count": 4,
      "outputs": []
    },
    {
      "cell_type": "code",
      "source": [
        "# Predefined Queries\n",
        "query_1 = \"How long do Golden Retrievers live?\"\n",
        "query_2 = \"What should I feed my Golden Retriever?\"\n",
        "query_3 = \"Do Golden Retrievers need to play?\"\n",
        "query_4 = \"Do Golden Retrievers need to exercise?\"\n",
        "query_5 = \"What is a Golden Retrievers lifespan?\"\n",
        "\n",
        "# Retrieve using Fuzzy Matching\n",
        "print(\"Fuzzy Matching Results:\")\n",
        "print(retrieve_with_fuzzy_faq(query_1, faq))\n",
        "print(retrieve_with_fuzzy_faq(query_2, faq))\n",
        "print(retrieve_with_fuzzy_faq(query_3, faq))\n",
        "print(retrieve_with_fuzzy_faq(query_4, faq))\n",
        "print(retrieve_with_fuzzy_faq(query_5, faq))"
      ],
      "metadata": {
        "colab": {
          "base_uri": "https://localhost:8080/"
        },
        "id": "PMGpjJY86wRT",
        "outputId": "2813ac77-2500-4c76-933c-4e349afb4b5e"
      },
      "execution_count": 5,
      "outputs": [
        {
          "output_type": "stream",
          "name": "stdout",
          "text": [
            "Fuzzy Matching Results:\n",
            "Golden Retrievers typically live for 10 to 12 years, depending on their health and care.\n",
            "Golden Retrievers should be fed a balanced diet with high-quality dry dog food. The amount depends on the dog's age, size, and activity level.\n",
            "Yes, Golden Retrievers shed heavily, especially during spring and fall. Regular brushing can help control the shedding.\n",
            "Golden Retrievers don't need regular haircuts, but trimming around their ears, paws, and tail can keep them looking neat.\n",
            "The average lifespan of a Golden Retriever is around 10 to 12 years.\n"
          ]
        }
      ]
    },
    {
      "cell_type": "markdown",
      "source": [
        "# Section 4. Approach 2: Semantic Search using cosine_similarity from sklearn <a name=\"section-4\"></a>"
      ],
      "metadata": {
        "id": "Abxd6rBe-ze_"
      }
    },
    {
      "cell_type": "code",
      "source": [
        "# Import required libraries\n",
        "import torch\n",
        "from transformers import AutoTokenizer, AutoModel\n",
        "from sklearn.metrics.pairwise import cosine_similarity\n",
        "import numpy as np"
      ],
      "metadata": {
        "id": "rZAVfYIW-qdh"
      },
      "execution_count": 6,
      "outputs": []
    },
    {
      "cell_type": "code",
      "source": [
        "# Define a class and relevant functions\n",
        "class FAQRetriever:\n",
        "    def __init__(self, faq_dict):\n",
        "        self.faq_dict = faq_dict\n",
        "        self.questions = list(faq_dict.keys())\n",
        "        self.answers = list(faq_dict.values())\n",
        "        self.model_name = \"sentence-transformers/all-MiniLM-L6-v2\"  # Pre-trained model for embeddings\n",
        "        self.tokenizer = AutoTokenizer.from_pretrained(self.model_name)\n",
        "        self.model = AutoModel.from_pretrained(self.model_name)\n",
        "        self.question_embeddings = self.embed_questions(self.questions)\n",
        "\n",
        "    # Method to embed questions using pre-trained model\n",
        "    def embed_questions(self, questions):\n",
        "        inputs = self.tokenizer(questions, padding=True, truncation=True, return_tensors=\"pt\")\n",
        "        with torch.no_grad():\n",
        "            model_output = self.model(**inputs)\n",
        "        embeddings = model_output.last_hidden_state.mean(dim=1)\n",
        "        return embeddings\n",
        "\n",
        "    # Method to compute cosine similarity using sklearn\n",
        "    def compute_similarity(self, query_embedding, question_embeddings):\n",
        "        # Convert PyTorch tensors to numpy arrays for use with cosine_similarity from sklearn\n",
        "        query_embedding = query_embedding.numpy()\n",
        "        question_embeddings = question_embeddings.numpy()\n",
        "        return cosine_similarity(query_embedding, question_embeddings)\n",
        "\n",
        "    # Method to retrieve the most similar FAQ based on embedding\n",
        "    def retrieve(self, query, top_k=1):\n",
        "        inputs = self.tokenizer(query, return_tensors=\"pt\", padding=True, truncation=True)\n",
        "        with torch.no_grad():\n",
        "            query_embedding = self.model(**inputs).last_hidden_state.mean(dim=1)\n",
        "        similarities = self.compute_similarity(query_embedding, self.question_embeddings)\n",
        "        top_k_indices = similarities.argsort()[0][-top_k:][::-1]\n",
        "        # return [(self.questions[i], self.answers[i]) for i in top_k_indices]\n",
        "        return self.answers[top_k_indices[0]]"
      ],
      "metadata": {
        "id": "QJeFAQ3e2XPc"
      },
      "execution_count": 14,
      "outputs": []
    },
    {
      "cell_type": "code",
      "source": [
        " # Instantiate the FAQRetriever\n",
        "faq_retriever = FAQRetriever(faq)\n",
        "\n",
        "# Example Queries\n",
        "query_1 = \"How long do Golden Retrievers live?\"\n",
        "query_2 = \"What should I feed my Golden Retriever?\"\n",
        "query_3 = \"Do Golden Retrievers need to play?\"\n",
        "query_4 = \"Do Golden Retrievers need to exercise?\"\n",
        "query_5 = \"What is a Golden Retrievers lifespan?\"\n",
        "\n",
        "# Retrieve using Embedding-based Semantic Search with Cosine Similarity\n",
        "print(\"\\nEmbedding-based Search Results:\")\n",
        "print(faq_retriever.retrieve(query_1))\n",
        "print(faq_retriever.retrieve(query_2))\n",
        "print(faq_retriever.retrieve(query_3))\n",
        "print(faq_retriever.retrieve(query_4))\n",
        "print(faq_retriever.retrieve(query_5))"
      ],
      "metadata": {
        "colab": {
          "base_uri": "https://localhost:8080/"
        },
        "id": "b1XSCBsKANo3",
        "outputId": "825f3648-adb6-45df-ffb3-92af81c441ea"
      },
      "execution_count": 15,
      "outputs": [
        {
          "output_type": "stream",
          "name": "stderr",
          "text": [
            "/usr/local/lib/python3.10/dist-packages/transformers/tokenization_utils_base.py:1601: FutureWarning: `clean_up_tokenization_spaces` was not set. It will be set to `True` by default. This behavior will be depracted in transformers v4.45, and will be then set to `False` by default. For more details check this issue: https://github.com/huggingface/transformers/issues/31884\n",
            "  warnings.warn(\n"
          ]
        },
        {
          "output_type": "stream",
          "name": "stdout",
          "text": [
            "\n",
            "Embedding-based Search Results:\n",
            "Golden Retrievers typically live for 10 to 12 years, depending on their health and care.\n",
            "Golden Retrievers should be fed a balanced diet with high-quality dry dog food. The amount depends on the dog's age, size, and activity level.\n",
            "Golden Retrievers generally get along well with other pets due to their friendly and social temperament.\n",
            "Golden Retrievers need at least one hour of exercise per day. This can include walking, running, or playing fetch.\n",
            "The average lifespan of a Golden Retriever is around 10 to 12 years.\n"
          ]
        }
      ]
    },
    {
      "cell_type": "markdown",
      "source": [
        "# Section 5. Approach 3: Chatbot<a name=\"section-5\"></a>\n",
        "### Semantic Search with LLM as a fallback"
      ],
      "metadata": {
        "id": "ubs5uP3s_IJ8"
      }
    },
    {
      "cell_type": "code",
      "source": [
        "import random\n",
        "from sklearn.feature_extraction.text import TfidfVectorizer\n",
        "from sklearn.metrics.pairwise import cosine_similarity\n",
        "from transformers import AutoTokenizer, AutoModelForSeq2SeqLM, pipeline"
      ],
      "metadata": {
        "id": "7apr2m3v_Y2a"
      },
      "execution_count": 16,
      "outputs": []
    },
    {
      "cell_type": "code",
      "source": [
        "# Load Flan-T5 model\n",
        "model_name = \"google/flan-t5-base\"  # You can also try \"google/flan-t5-large\" or \"google/flan-t5-xl\" if resources allow\n",
        "tokenizer = AutoTokenizer.from_pretrained(model_name)\n",
        "model = AutoModelForSeq2SeqLM.from_pretrained(model_name)\n",
        "\n",
        "# Fallback pipeline for Flan-T5\n",
        "llm_pipeline = pipeline(\"text2text-generation\", model=model, tokenizer=tokenizer)\n",
        "\n",
        "# Predefined responses for greeting, thanks, and farewells\n",
        "greetings = [\"Hello! How can I help you today?\", \"Hi! What would you like to know about Golden Retrievers?\", \"Hey! Ask me anything about Golden Retrievers!\"]\n",
        "farewells = [\"Goodbye! Have a great day!\", \"Bye! Hope I answered your questions!\", \"See you later!\"]\n",
        "thanks_responses = [\"You're welcome!\", \"Glad I could help!\", \"No problem!\", \"Happy to assist!\"]\n",
        "\n",
        "# Generic chit-chat responses\n",
        "chit_chat_responses = {\n",
        "    \"how are you\": \"I'm just a chatbot, but I'm doing great! How about you?\",\n",
        "    \"what's your name\": \"I'm the Golden Retriever chatbot! Ask me anything about Golden Retrievers.\",\n",
        "    \"what is your favorite color\": \"I don't have a favorite color, but Golden Retrievers come in beautiful shades of gold!\"\n",
        "}\n",
        "\n",
        "# Vectorizer to match user queries with FAQ\n",
        "vectorizer = TfidfVectorizer().fit(faq.keys())\n",
        "\n",
        "# Function to retrieve an answer from the FAQ or chit-chat dictionary\n",
        "def get_faq_response(user_input):\n",
        "    user_input = user_input.lower().strip()\n",
        "\n",
        "    # Handle predefined greetings, farewells, and thanks\n",
        "    if any(greet in user_input for greet in [\"hi\", \"hello\", \"hey\"]):\n",
        "        return random.choice(greetings)\n",
        "    if any(bye in user_input for bye in [\"bye\", \"goodbye\", \"see you\"]):\n",
        "        return random.choice(farewells)\n",
        "    if \"thank\" in user_input:\n",
        "        return random.choice(thanks_responses)\n",
        "\n",
        "    # Handle chit-chat\n",
        "    for phrase, response in chit_chat_responses.items():\n",
        "        if phrase in user_input:\n",
        "            return response\n",
        "\n",
        "    # Vectorize input and match against FAQ\n",
        "    query_vec = vectorizer.transform([user_input])\n",
        "    faq_vec = vectorizer.transform(faq.keys())\n",
        "    similarity = cosine_similarity(query_vec, faq_vec).flatten()\n",
        "\n",
        "    # Find the most similar question\n",
        "    best_match_idx = similarity.argmax()\n",
        "    best_match_score = similarity[best_match_idx]\n",
        "\n",
        "    if best_match_score >= 0.6:  # Threshold for similarity\n",
        "        matched_question = list(faq.keys())[best_match_idx]\n",
        "        # print(best_match_score)\n",
        "        # print(matched_question)\n",
        "        return faq[matched_question]\n",
        "\n",
        "    return None  # If no match is found\n",
        "\n",
        "# Fallback to Flan-T5 for unrelated questions\n",
        "def llm_fallback(query):\n",
        "    prompt = f\"This is a question-answering task. Answer the following question: {query}\"\n",
        "    response = llm_pipeline(prompt, max_length=100, num_return_sequences=1)\n",
        "    return response[0]['generated_text']\n",
        "\n",
        "# This is a previous attempt, which can be pretty unstable/ random\n",
        "# def llm_fallback(query):\n",
        "#     response = llm_pipeline(query, max_length=100)\n",
        "#     return response[0]['generated_text']\n",
        "\n",
        "\n",
        "# Chatbot loop\n",
        "def chatbot():\n",
        "    print(\"Welcome to the Golden Retriever chatbot! Ask me anything about Golden Retrievers.\")\n",
        "    print(\"Type 'exit' to end the conversation.\")\n",
        "\n",
        "    while True:\n",
        "        user_input = input(\"\\nYou: \").strip()\n",
        "\n",
        "        if user_input.lower() == \"exit\":\n",
        "            print(random.choice(farewells))\n",
        "            break\n",
        "\n",
        "        # Get chatbot response\n",
        "        response = get_faq_response(user_input)\n",
        "\n",
        "        if response:\n",
        "            print(f\"\\nBot: {response}\")\n",
        "        else:\n",
        "            # Forward unrelated questions to Flan-T5\n",
        "            llm_response = llm_fallback(user_input)\n",
        "            print(f\"\\nBot: {llm_response} \")\n",
        "            print(f\"\\nBot: Also, you should ask me about golden retrievers!\")\n",
        "\n",
        "# Run the chatbot\n",
        "chatbot()\n"
      ],
      "metadata": {
        "colab": {
          "base_uri": "https://localhost:8080/"
        },
        "id": "IPPwunCPwkEa",
        "outputId": "e17cfefa-2ade-4e78-eeef-d25921e19d61"
      },
      "execution_count": 28,
      "outputs": [
        {
          "output_type": "stream",
          "name": "stdout",
          "text": [
            "Welcome to the Golden Retriever chatbot! Ask me anything about Golden Retrievers.\n",
            "Type 'exit' to end the conversation.\n",
            "\n",
            "You: Hey hey\n",
            "\n",
            "Bot: Hey! Ask me anything about Golden Retrievers!\n",
            "\n",
            "You: How are you?\n",
            "\n",
            "Bot: I'm just a chatbot, but I'm doing great! How about you?\n",
            "\n",
            "You: I want to know how long my golden retriever will live for\n",
            "\n",
            "Bot: Golden Retrievers typically live for 10 to 12 years, depending on their health and care.\n",
            "\n",
            "You: ok, do golden retrievers shed alot?\n",
            "\n",
            "Bot: Yes, Golden Retrievers shed heavily, especially during spring and fall. Regular brushing can help control the shedding.\n",
            "\n",
            "You: Can I have my dog in the house?\n",
            "\n",
            "Bot: Yes \n",
            "\n",
            "Bot: Also, you should ask me about golden retrievers!\n",
            "\n",
            "You: can I have my golden retrienver as an indoor pet?\n",
            "\n",
            "Bot: yes \n",
            "\n",
            "Bot: Also, you should ask me about golden retrievers!\n",
            "\n",
            "You: exit\n",
            "See you later!\n"
          ]
        }
      ]
    }
  ]
}